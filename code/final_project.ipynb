{
   "cell_type": "markdown",
   "metadata": {},
   "source": [
    "\n",
    "\n",
    "<b>Data Visualisation.</b>\n",
    "- Why visualise data?\n",
    "- Different visualisations\n",
    "- Matplotlib and Seaborn\n",
    "- Grammar of graphics\n",
    "- Editing graphics\n"
   ]
  }
