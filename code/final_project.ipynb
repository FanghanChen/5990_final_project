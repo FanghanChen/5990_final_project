{
 "cells": [
  {
   "cell_type": "markdown",
   "metadata": {},
    "\n",
    "# GEOG5990M Programming for Geographical Information Analysis: Core Skills  <a class=\"tocSkip\">\n",
    "\n",
    "\n",
 "# Final Project \n"
"Is there an association between building age and price in Leeds? \n"
   
  }
]
}
